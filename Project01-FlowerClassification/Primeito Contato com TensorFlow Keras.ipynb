{
 "cells": [
  {
   "cell_type": "markdown",
   "metadata": {},
   "source": [
    "# Aula 01 - Primeiro Contato\n",
    "\n",
    "## O que é TensorFlow?\n",
    "\n",
    "O TensorFlow é um framework de código aberto criado pelo Google para o desenvolvimento e execução de modelos de **machine learning** e **deep learning**.\n",
    "\n",
    "Ele permite criar e treinar redes neurais com grande flexibilidade e eficiência, utilizando **tensores** (estruturas de dados multidimensionais) como base para os cálculos.\n",
    "\n",
    "- Foi desenvolvido pelo Google Brain Team;\n",
    "- Suporta tanto CPU quanto GPU (e até TPU - é um processador otimizado especificamente para operações de inteligência artificial e aprendizado de máquina);\n",
    "- Permite criar modelos usando tanto alto nível (Keras) quanto baixo nível (operações matemáticas customizadas).\n",
    "\n",
    "## O que é Keras?\n",
    "\n",
    "O Keras é uma **API de alto nível** para construção e treinamento de modelos de deep learning. Foi projetada para ser simples, intuitiva e modular, o que a torna ideal para iniciantes e também poderosa o suficiente para especialistas.\n",
    "\n",
    "Originalmente, o Keras podia ser usado com diversos backends (Theano, CNTK, TensorFlow). Mas desde 2017, ele foi integrado oficialmente ao TensorFlow e passou a ser o frontend oficial do framework (TensorFlow).\n",
    "\n",
    "## Usando o Keras\n",
    "\n",
    "A partir do TensorFlow 2.0, o Keras foi completamente integrado e passou a ser acessado por meio do módulo:\n",
    "\n",
    "```python\n",
    "import tensorflow.keras as keras\n",
    "```\n",
    "\n",
    "Ou ainda:\n",
    "\n",
    "```python\n",
    "import tensorflow as keras\n",
    "```\n",
    "\n",
    "## Em Resumo:\n",
    "\n",
    "| Termo | O que é | Papel Principal |\n",
    "|---|---|---|\n",
    "|TensorFlow|Framework de ML/DL de baixo a alto ní­vel|Motor de cálculo (backend)|\n",
    "|Keras|API de alto nível para construção de modelos|Interface amigável sobre o TensorFlow|\n",
    "\n"
   ]
  },
  {
   "cell_type": "markdown",
   "metadata": {},
   "source": [
    "## Classificação de Flores\n",
    "**Características das Flores**\n",
    "\n",
    "1. Comprimento e largura de **pétalas**\n",
    "1. Comprimento e larguara de **sépelas**\n",
    "\n",
    "**Classificação**\n",
    "\n",
    "Verificar se a flor **iris** é \n",
    "\n",
    "- Versicolor\n",
    "- Setosa\n",
    "- Virginica"
   ]
  },
  {
   "cell_type": "code",
   "execution_count": 1,
   "metadata": {},
   "outputs": [],
   "source": [
    "# Instalar os pacotes necessários\n",
    "# !pip install --upgrade pip\n",
    "# !pip install tensorflow\n",
    "# !pip install pydot"
   ]
  },
  {
   "cell_type": "code",
   "execution_count": 2,
   "metadata": {},
   "outputs": [
    {
     "name": "stdout",
     "output_type": "stream",
     "text": [
      "2.19.0\n"
     ]
    }
   ],
   "source": [
    "# Importar o tensorflow\n",
    "import tensorflow as tf\n",
    "print(tf.__version__) # 2.19.0\n",
    "\n",
    "# Importar o Keras\n",
    "import tensorflow.keras as keras\n",
    "\n",
    "# Outros pacotes\n",
    "import pydot"
   ]
  },
  {
   "cell_type": "code",
   "execution_count": 3,
   "metadata": {},
   "outputs": [],
   "source": [
    "# O Sequential une várias camadas do modelo\n",
    "# Camadas são um conjunto de neurônios para compor uma rede neural completa\n",
    "# A camada Dense executa todos os cálculos do modelo (perceptron)\n",
    "\n",
    "# Parâmetros\n",
    "# units = qtd de neurônios\n",
    "# keras.Input =  qtd de entradas do modelo (ex: largura e comprimento das pétalas)\n",
    "\n",
    "modelo = keras.Sequential([ \n",
    "    keras.Input(shape=[2]),\n",
    "    keras.layers.Dense( units=1, name='Neurônio')\n",
    "])"
   ]
  },
  {
   "cell_type": "code",
   "execution_count": 4,
   "metadata": {},
   "outputs": [
    {
     "data": {
      "text/html": [
       "<pre style=\"white-space:pre;overflow-x:auto;line-height:normal;font-family:Menlo,'DejaVu Sans Mono',consolas,'Courier New',monospace\"><span style=\"font-weight: bold\">Model: \"sequential\"</span>\n",
       "</pre>\n"
      ],
      "text/plain": [
       "\u001b[1mModel: \"sequential\"\u001b[0m\n"
      ]
     },
     "metadata": {},
     "output_type": "display_data"
    },
    {
     "data": {
      "text/html": [
       "<pre style=\"white-space:pre;overflow-x:auto;line-height:normal;font-family:Menlo,'DejaVu Sans Mono',consolas,'Courier New',monospace\">┏━━━━━━━━━━━━━━━━━━━━━━━━━━━━━━━━━┳━━━━━━━━━━━━━━━━━━━━━━━━┳━━━━━━━━━━━━━━━┓\n",
       "┃<span style=\"font-weight: bold\"> Layer (type)                    </span>┃<span style=\"font-weight: bold\"> Output Shape           </span>┃<span style=\"font-weight: bold\">       Param # </span>┃\n",
       "┡━━━━━━━━━━━━━━━━━━━━━━━━━━━━━━━━━╇━━━━━━━━━━━━━━━━━━━━━━━━╇━━━━━━━━━━━━━━━┩\n",
       "│ Neurônio (<span style=\"color: #0087ff; text-decoration-color: #0087ff\">Dense</span>)                │ (<span style=\"color: #00d7ff; text-decoration-color: #00d7ff\">None</span>, <span style=\"color: #00af00; text-decoration-color: #00af00\">1</span>)              │             <span style=\"color: #00af00; text-decoration-color: #00af00\">3</span> │\n",
       "└─────────────────────────────────┴────────────────────────┴───────────────┘\n",
       "</pre>\n"
      ],
      "text/plain": [
       "┏━━━━━━━━━━━━━━━━━━━━━━━━━━━━━━━━━┳━━━━━━━━━━━━━━━━━━━━━━━━┳━━━━━━━━━━━━━━━┓\n",
       "┃\u001b[1m \u001b[0m\u001b[1mLayer (type)                   \u001b[0m\u001b[1m \u001b[0m┃\u001b[1m \u001b[0m\u001b[1mOutput Shape          \u001b[0m\u001b[1m \u001b[0m┃\u001b[1m \u001b[0m\u001b[1m      Param #\u001b[0m\u001b[1m \u001b[0m┃\n",
       "┡━━━━━━━━━━━━━━━━━━━━━━━━━━━━━━━━━╇━━━━━━━━━━━━━━━━━━━━━━━━╇━━━━━━━━━━━━━━━┩\n",
       "│ Neurônio (\u001b[38;5;33mDense\u001b[0m)                │ (\u001b[38;5;45mNone\u001b[0m, \u001b[38;5;34m1\u001b[0m)              │             \u001b[38;5;34m3\u001b[0m │\n",
       "└─────────────────────────────────┴────────────────────────┴───────────────┘\n"
      ]
     },
     "metadata": {},
     "output_type": "display_data"
    },
    {
     "data": {
      "text/html": [
       "<pre style=\"white-space:pre;overflow-x:auto;line-height:normal;font-family:Menlo,'DejaVu Sans Mono',consolas,'Courier New',monospace\"><span style=\"font-weight: bold\"> Total params: </span><span style=\"color: #00af00; text-decoration-color: #00af00\">3</span> (12.00 B)\n",
       "</pre>\n"
      ],
      "text/plain": [
       "\u001b[1m Total params: \u001b[0m\u001b[38;5;34m3\u001b[0m (12.00 B)\n"
      ]
     },
     "metadata": {},
     "output_type": "display_data"
    },
    {
     "data": {
      "text/html": [
       "<pre style=\"white-space:pre;overflow-x:auto;line-height:normal;font-family:Menlo,'DejaVu Sans Mono',consolas,'Courier New',monospace\"><span style=\"font-weight: bold\"> Trainable params: </span><span style=\"color: #00af00; text-decoration-color: #00af00\">3</span> (12.00 B)\n",
       "</pre>\n"
      ],
      "text/plain": [
       "\u001b[1m Trainable params: \u001b[0m\u001b[38;5;34m3\u001b[0m (12.00 B)\n"
      ]
     },
     "metadata": {},
     "output_type": "display_data"
    },
    {
     "data": {
      "text/html": [
       "<pre style=\"white-space:pre;overflow-x:auto;line-height:normal;font-family:Menlo,'DejaVu Sans Mono',consolas,'Courier New',monospace\"><span style=\"font-weight: bold\"> Non-trainable params: </span><span style=\"color: #00af00; text-decoration-color: #00af00\">0</span> (0.00 B)\n",
       "</pre>\n"
      ],
      "text/plain": [
       "\u001b[1m Non-trainable params: \u001b[0m\u001b[38;5;34m0\u001b[0m (0.00 B)\n"
      ]
     },
     "metadata": {},
     "output_type": "display_data"
    }
   ],
   "source": [
    "# Algumas informações do modelo em texto\n",
    "# 3 parâmetros porque são dois pesos mais o bias\n",
    "\n",
    "modelo.summary()"
   ]
  },
  {
   "cell_type": "code",
   "execution_count": 5,
   "metadata": {},
   "outputs": [
    {
     "data": {
      "text/plain": [
       "[<Dense name=Neurônio, built=True>]"
      ]
     },
     "execution_count": 5,
     "metadata": {},
     "output_type": "execute_result"
    }
   ],
   "source": [
    "# Retorna uma lista contendo as camadas do modelo criado\n",
    "# Neste caso, retorna somente a camada Dense chamada Neurônio\n",
    "modelo.layers"
   ]
  },
  {
   "cell_type": "code",
   "execution_count": 6,
   "metadata": {},
   "outputs": [
    {
     "data": {
      "text/plain": [
       "[array([[-0.00107455],\n",
       "        [ 0.0559305 ]], dtype=float32),\n",
       " array([0.], dtype=float32)]"
      ]
     },
     "execution_count": 6,
     "metadata": {},
     "output_type": "execute_result"
    }
   ],
   "source": [
    "# Coleta os pesos e viéses da camada enviada como objeto e os retorna como lista\n",
    "modelo.layers[0].get_weights()\n",
    "\n",
    "# modelo.layers[0].get_weights()[0] mostra somente os pesos\n",
    "# modelo.layers[0].get_weights()[1] mostra somente o bias"
   ]
  },
  {
   "cell_type": "code",
   "execution_count": 12,
   "metadata": {},
   "outputs": [],
   "source": [
    "# Cria variáveis para pesos e bias\n",
    "# pesos recebe modelo.layers[0].get_weights()[0]\n",
    "# bias recebe modelo.layers[0].get_weights()[1]\n",
    "\n",
    "pesos, bias = modelo.layers[0].get_weights()"
   ]
  },
  {
   "cell_type": "code",
   "execution_count": 8,
   "metadata": {},
   "outputs": [
    {
     "name": "stdout",
     "output_type": "stream",
     "text": [
      "(2, 1)\n"
     ]
    },
    {
     "data": {
      "text/plain": [
       "array([[-0.00107455],\n",
       "       [ 0.0559305 ]], dtype=float32)"
      ]
     },
     "execution_count": 8,
     "metadata": {},
     "output_type": "execute_result"
    }
   ],
   "source": [
    "# Pesos\n",
    "\n",
    "# mostra o tamanho\n",
    "print(pesos.shape)\n",
    "\n",
    "# mostra o conteúdo\n",
    "pesos"
   ]
  },
  {
   "cell_type": "code",
   "execution_count": 9,
   "metadata": {},
   "outputs": [
    {
     "name": "stdout",
     "output_type": "stream",
     "text": [
      "(1,)\n"
     ]
    },
    {
     "data": {
      "text/plain": [
       "array([0.], dtype=float32)"
      ]
     },
     "execution_count": 9,
     "metadata": {},
     "output_type": "execute_result"
    }
   ],
   "source": [
    "# Bias\n",
    "\n",
    "# mostra o tamanho\n",
    "print(bias.shape)\n",
    "\n",
    "# mostra o conteúdo\n",
    "bias\n",
    "\n",
    "# Neste caso, o bias é 0"
   ]
  },
  {
   "cell_type": "markdown",
   "metadata": {},
   "source": [
    "## Iniciar o modelo com parâmetros"
   ]
  },
  {
   "cell_type": "code",
   "execution_count": 10,
   "metadata": {},
   "outputs": [],
   "source": [
    "\n",
    "modelo = keras.Sequential([ \n",
    "    keras.Input(shape=[2]),\n",
    "    keras.layers.Dense(\n",
    "        units=1,\n",
    "        name='Neurônio',\n",
    "        kernel_initializer=keras.initializers.RandomNormal(), # define os pesos\n",
    "        bias_initializer=keras.initializers.Ones() # define o bias\n",
    "    )\n",
    "])"
   ]
  },
  {
   "cell_type": "code",
   "execution_count": 11,
   "metadata": {},
   "outputs": [
    {
     "data": {
      "text/plain": [
       "[array([[0.12909387],\n",
       "        [0.03539822]], dtype=float32),\n",
       " array([1.], dtype=float32)]"
      ]
     },
     "execution_count": 11,
     "metadata": {},
     "output_type": "execute_result"
    }
   ],
   "source": [
    "# Verificação dos pesos e bias\n",
    "modelo.layers[0].get_weights()"
   ]
  },
  {
   "cell_type": "code",
   "execution_count": null,
   "metadata": {},
   "outputs": [],
   "source": []
  }
 ],
 "metadata": {
  "kernelspec": {
   "display_name": "Python 3",
   "language": "python",
   "name": "python3"
  },
  "language_info": {
   "codemirror_mode": {
    "name": "ipython",
    "version": 3
   },
   "file_extension": ".py",
   "mimetype": "text/x-python",
   "name": "python",
   "nbconvert_exporter": "python",
   "pygments_lexer": "ipython3",
   "version": "3.12.5"
  }
 },
 "nbformat": 4,
 "nbformat_minor": 2
}
