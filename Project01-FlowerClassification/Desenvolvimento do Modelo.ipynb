{
  "cells": [
    {
      "cell_type": "markdown",
      "metadata": {},
      "source": [
        "[![Abrir no Colab](https://colab.research.google.com/assets/colab-badge.svg)](https://colab.research.google.com/github/filipefernandesphd/DEV-DeepLearning/blob/main/Project01-FlowerClassification/Desenvolvimento%20do%20Modelo.ipynb)"
      ]
    },
    {
      "cell_type": "markdown",
      "metadata": {
        "id": "MswYJgE70_Tz"
      },
      "source": [
        "# Keras: Redes Neurais"
      ]
    },
    {
      "cell_type": "markdown",
      "metadata": {
        "id": "K8P8HnKQmgz4"
      },
      "source": [
        "O Iris dataset é um conjunto de dados bem conhecido na comunidade acadêmica, esse conjunto de dados consiste em 50 amostras de cada uma das três espécies (150 amostras, no total) de Iris: *Iris setosa, Iris virginica e Iris versicolor*.\n",
        "\n",
        "Quatro variáveis foram medidas em cada amostra: o comprimento (*length*) e a largura (*width*) das sépalas (*Sepal*) e pétalas (*Petal*), em centímetros. Com base na combinação dessas quatro características, é possível distinguir as espécies umas das outras.\n",
        "\n",
        "![](https://kedro.readthedocs.io/en/0.17.5/_images/iris_measurements.png)\n",
        "\n",
        "Abaixo a representação dos três tipos de flores Iris.\n",
        "\n",
        "![](https://www.embedded-robotics.com/wp-content/uploads/2022/01/Iris-Dataset-Classification.png)"
      ]
    },
    {
      "cell_type": "markdown",
      "metadata": {
        "id": "zxWCoN5ssqmU"
      },
      "source": [
        "### Importando os dados"
      ]
    },
    {
      "cell_type": "markdown",
      "metadata": {
        "id": "X9mKiELXpCNw"
      },
      "source": [
        "É possivel realizar a coleta desse dataset através do método [`datasets`](https://scikit-learn.org/stable/modules/generated/sklearn.datasets.load_iris.html) da biblioteca `sklearn`."
      ]
    },
    {
      "cell_type": "code",
      "execution_count": null,
      "metadata": {
        "id": "KzOberRC5nrB"
      },
      "outputs": [],
      "source": []
    },
    {
      "cell_type": "code",
      "execution_count": null,
      "metadata": {
        "id": "jv49nxxE5nhg"
      },
      "outputs": [],
      "source": []
    },
    {
      "cell_type": "code",
      "execution_count": null,
      "metadata": {
        "id": "6P0T201o5nZ4"
      },
      "outputs": [],
      "source": []
    },
    {
      "cell_type": "code",
      "execution_count": null,
      "metadata": {
        "id": "-cCXUO3v5nTR"
      },
      "outputs": [],
      "source": []
    },
    {
      "cell_type": "code",
      "execution_count": null,
      "metadata": {},
      "outputs": [],
      "source": []
    },
    {
      "cell_type": "code",
      "execution_count": null,
      "metadata": {},
      "outputs": [],
      "source": [
        "# Visualização da distribuição das pétalas\n",
        "import matplotlib.pyplot as plt\n",
        "import seaborn as sns\n",
        "\n",
        "sns.scatterplot(x=x[:,2],y=x[:,3],hue=y,palette='tab10')\n",
        "plt.xlabel('comprimento (cm)',fontsize =16)\n",
        "plt.ylabel('largura (cm)', fontsize=16)\n",
        "plt.title('Distribuição pétalas', fontsize = 18)\n",
        "plt.show()"
      ]
    },
    {
      "cell_type": "code",
      "execution_count": null,
      "metadata": {},
      "outputs": [],
      "source": [
        "# Visualização da distribuição das sépalas\n",
        "sns.scatterplot(x = x[:,0], y = x[:,1], hue = y, palette = \"tab10\")\n",
        "plt.xlabel('comprimeto (cm)', fontsize = 16)\n",
        "plt.ylabel('largura (cm)', fontsize = 16)\n",
        "plt.title('Distribuição sépalas', fontsize = 18)\n",
        "plt.show()"
      ]
    },
    {
      "cell_type": "markdown",
      "metadata": {
        "id": "lUbXWgdpmcVr"
      },
      "source": [
        "### Tratamento"
      ]
    },
    {
      "cell_type": "markdown",
      "metadata": {
        "id": "zEcmmwllb7Fa"
      },
      "source": [
        "#### Categorização"
      ]
    },
    {
      "cell_type": "code",
      "execution_count": null,
      "metadata": {},
      "outputs": [],
      "source": []
    },
    {
      "cell_type": "code",
      "execution_count": null,
      "metadata": {
        "id": "8iU5wYRS5dDK"
      },
      "outputs": [],
      "source": []
    },
    {
      "cell_type": "markdown",
      "metadata": {
        "id": "HvXqF0mjcA6T"
      },
      "source": [
        "#### Normalização\n",
        "\n",
        "Os dados serão normalizados entre [0, 1], para isso utilizamos o método [`MinMaxScaler`](https://scikit-learn.org/stable/modules/generated/sklearn.preprocessing.MinMaxScaler)"
      ]
    },
    {
      "cell_type": "code",
      "execution_count": null,
      "metadata": {
        "id": "Mr8-P_FQ5baJ"
      },
      "outputs": [],
      "source": [
        "from sklearn.preprocessing import MinMaxScaler\n",
        "\n",
        "scaler = MinMaxScaler()\n",
        "x = scaler.fit_transform(x)"
      ]
    },
    {
      "cell_type": "markdown",
      "metadata": {
        "id": "4gFxAbq-B0fI"
      },
      "source": [
        "#### Separação de conjunto\n",
        "\n",
        "A separação em conjuntos de treino e teste garantem um melhor processo de criação do modelo. Esses conjuntos são definidos a partir do conjunto total de dados, o qual separameos por proporções:\n",
        "\n",
        "* **80%** - Treino\n",
        "* **20%** - Teste"
      ]
    },
    {
      "cell_type": "code",
      "execution_count": null,
      "metadata": {
        "id": "b2Vy9GBW5U_5"
      },
      "outputs": [],
      "source": []
    },
    {
      "cell_type": "code",
      "execution_count": null,
      "metadata": {
        "id": "5LYxtRp75U4x"
      },
      "outputs": [],
      "source": []
    },
    {
      "cell_type": "code",
      "execution_count": null,
      "metadata": {
        "id": "tP-_Mck_5Uxh"
      },
      "outputs": [],
      "source": []
    },
    {
      "cell_type": "markdown",
      "metadata": {
        "id": "BMS-65LusijP"
      },
      "source": [
        "## Modelo - MLP"
      ]
    },
    {
      "cell_type": "markdown",
      "metadata": {
        "id": "ybG-0Kju1KiI"
      },
      "source": [
        "### Criação do modelo\n",
        "\n",
        "Fazemos um modelo MLP definido por 1 camada de entrada, 1 camada oculta e 1 camada de saída."
      ]
    },
    {
      "cell_type": "code",
      "execution_count": null,
      "metadata": {
        "id": "JVXo39JO4_OZ"
      },
      "outputs": [],
      "source": []
    },
    {
      "cell_type": "markdown",
      "metadata": {
        "id": "Qj3CF2Au2KyD"
      },
      "source": [
        "### Treinamento"
      ]
    },
    {
      "cell_type": "markdown",
      "metadata": {
        "id": "08Vvd91Rcgfs"
      },
      "source": [
        "#### Compilando o modelo\n",
        "\n",
        "Compilar o modelo se dá pelo método [`compile`](https://keras.io/api/models/model_training_apis/). Nessa etapa devemos especificar a função de perda e o otimizador a ser usado. Uma opção também é especificar as métricas a serem calculadas durante o treinamento e avaliação do modelo."
      ]
    },
    {
      "cell_type": "code",
      "execution_count": null,
      "metadata": {
        "id": "nHNU9fOA42y6"
      },
      "outputs": [],
      "source": []
    },
    {
      "cell_type": "markdown",
      "metadata": {
        "id": "4WF6jy7Pmfzf"
      },
      "source": [
        "**Explicação:**\n",
        "\n",
        "1. A perda escolhida foi a `'categorical_crossentropy'` pois os resultads em y são valores categóricos.\n",
        "2. O uso do otimizador `'rmsprop'` indica que iremos treinar o modelo baseado em gradiente descendente, que calcula a média móvel de gradientes quadrados para normalizar o gradiente (processo de retropropagação será aplicado ao realizar o treinamento).\n",
        "3. Por esse modelo ser um classificador simples, é interessante calcular o valor da acurácia durante o treino e validação."
      ]
    },
    {
      "cell_type": "markdown",
      "metadata": {
        "id": "2_iPYpyZcjLn"
      },
      "source": [
        "#### Treino\n",
        "\n",
        "O treinamento é feito com o método `fit`, sendo especificado as entredas e saídas esperadas de treino, épocas e também os dados de validação."
      ]
    },
    {
      "cell_type": "markdown",
      "metadata": {
        "id": "rEsIX9i-mtIe"
      },
      "source": [
        "**Explicação:**\n",
        "\n",
        "1. Para treinamento é preciso passar os dados de entradas e saídas do conjunto de treinamento.\n",
        "2. Nesse caso o número de épocas também é essencial pois o padrão da biblioteca é 1 época, o que não é tão bom para o aprendizado.\n",
        "3. Passamos também a porcentagem do conjunto de validação para serem considerados do conjunto de treino - 30% do conjunto de treino"
      ]
    },
    {
      "cell_type": "code",
      "execution_count": null,
      "metadata": {
        "id": "evWZPYWJ4xya"
      },
      "outputs": [],
      "source": []
    },
    {
      "cell_type": "markdown",
      "metadata": {
        "id": "5YUF_A1qxWbn"
      },
      "source": [
        "**Interpretando a exibição:**\n",
        "\n",
        "Exemplo de exibição: \n",
        "```\n",
        "Epoch 100/100\n",
        "3/3 [==============================] - 0s 47ms/step - loss: 0.1451 - categorical_accuracy: 0.9524 - val_loss: 0.1456 - val_categorical_accuracy: 0.9722\n",
        "```\n",
        "- A época de treinamento: *`Epoch 100/100`*\n",
        "- Quantidade de **instâncias processadas**: *`3/3`*\n",
        "  * Aqui, temos a quantidade de amostras divididas pela número de [batch_size](https://www.deeplearningbook.com.br/o-efeito-do-batch-size-no-treinamento-de-redes-neurais-artificiais/). Normalmente a batch é definida com 32 no keras, temos 84 amostras (70% do conjunto de treino) no treinamento, resultando assim em aproximadamente 3 instâncias.\n",
        "- A barra de progresso: *`[==============================]`*\n",
        "- Tempo de treinamento de cada amostra: *`0s 13ms/step`*\n",
        "- Perda e acurária no conjunto de treinamento: *`loss: 0.1506 - categorical_accuracy: 0.9524`*\n",
        "- Perda e acurária no conjunto de validação: *`val_loss: 0.1494 - val_categorical_accuracy: 0.9722`*"
      ]
    },
    {
      "cell_type": "markdown",
      "metadata": {
        "id": "Xo_FaGu90YOt"
      },
      "source": [
        "### Avaliação"
      ]
    },
    {
      "cell_type": "markdown",
      "metadata": {
        "id": "dUAsjXu28U0T"
      },
      "source": [
        "#### Aprendizado\n",
        "\n",
        "Podemos avaliar o desempenho do nosso modelo durante o treinamento com os dados de `historico` através do método `history` e plotar o processo de aprendizado"
      ]
    },
    {
      "cell_type": "code",
      "execution_count": null,
      "metadata": {
        "id": "8rqFkNgb4UXK"
      },
      "outputs": [],
      "source": []
    },
    {
      "cell_type": "code",
      "execution_count": null,
      "metadata": {
        "id": "EsYCNuAp4SuS"
      },
      "outputs": [],
      "source": []
    },
    {
      "cell_type": "markdown",
      "metadata": {
        "id": "nTSMv08X3own"
      },
      "source": [
        "Para observar mais de perto o aprendizado do modelo podemos plotar curvas individuais e perceber como no aprendizado, ambos os conjuntos obtiveram resultados similares. Isso nos garante que não ocorreu sobreajuste no treinamento.\n",
        "\n",
        "A constancia das curvas é diferente pois os valores de erro  da validação é calculada por época e para o treinamento é feito uma média dos valores de erro durante as iterações de cada época."
      ]
    },
    {
      "cell_type": "code",
      "execution_count": null,
      "metadata": {
        "id": "lVRjbAhb3576"
      },
      "outputs": [],
      "source": [
        "fig, ax = plt.subplots(1,2, figsize=(14,5))\n",
        "ax[0].plot(historico.history['loss'], color='#111487', linewidth=3, label=\"Perda de treinamento\")\n",
        "ax[0].plot(historico.history['val_loss'], color='#EFA316', linewidth=3, label=\"Perda da validação\")\n",
        "legend = ax[0].legend(loc='best', shadow=True)\n",
        "\n",
        "ax[1].plot(historico.history['categorical_accuracy'], color='#111487', linewidth=3, label=\"Acurácia de treinamento\")\n",
        "ax[1].plot(historico.history['val_categorical_accuracy'], color='#EFA316', linewidth=3, label=\"Acurácia de validação\")\n",
        "legend = ax[1].legend(loc='best', shadow=True)\n",
        "\n",
        "plt.suptitle('Desempenho do treinamento', fontsize = 18)\n",
        "plt.show()"
      ]
    },
    {
      "cell_type": "markdown",
      "metadata": {
        "id": "i4_zjfM_Lo2Z"
      },
      "source": [
        "#### Teste\n",
        "\n",
        "Podemos testar o modelo e verificar seu resultado final através do método [`evaluate`](https://keras.io/api/models/model_training_apis/#:~:text=%5Bsource%5D-,evaluate%20method,-Model.evaluate) que nos mostra a perda e acurácia obtida no conjunto de teste."
      ]
    },
    {
      "cell_type": "code",
      "execution_count": null,
      "metadata": {
        "id": "P0sL5Gzz3xVC"
      },
      "outputs": [],
      "source": []
    },
    {
      "cell_type": "markdown",
      "metadata": {
        "id": "S1c0zg0q9L7m"
      },
      "source": [
        "O método [`predict`](https://keras.io/api/models/model_training_apis/#:~:text=%5Bsource%5D-,predict%20method,-Model.predict) gera a predição do modelo para as entradas enviadas.\n",
        "\n",
        "Faremos o teste: as entradas `[[0.61, 0.5, 0.69, 0.79]]` devem resultar em uma indicação de flor Virginica - `[0., 0., 1.]`"
      ]
    },
    {
      "cell_type": "code",
      "execution_count": null,
      "metadata": {
        "id": "Z--7p0UG3zn6"
      },
      "outputs": [],
      "source": []
    },
    {
      "cell_type": "code",
      "execution_count": null,
      "metadata": {},
      "outputs": [],
      "source": []
    },
    {
      "cell_type": "code",
      "execution_count": null,
      "metadata": {},
      "outputs": [],
      "source": []
    }
  ],
  "metadata": {
    "colab": {
      "collapsed_sections": [],
      "provenance": [],
      "toc_visible": true
    },
    "kernelspec": {
      "display_name": "Python 3",
      "name": "python3"
    },
    "language_info": {
      "codemirror_mode": {
        "name": "ipython",
        "version": 3
      },
      "file_extension": ".py",
      "mimetype": "text/x-python",
      "name": "python",
      "nbconvert_exporter": "python",
      "pygments_lexer": "ipython3",
      "version": "3.12.5"
    }
  },
  "nbformat": 4,
  "nbformat_minor": 0
}
