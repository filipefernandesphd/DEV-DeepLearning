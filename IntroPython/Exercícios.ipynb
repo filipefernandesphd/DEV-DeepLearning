{
 "cells": [
  {
   "cell_type": "markdown",
   "id": "06d1a66d",
   "metadata": {},
   "source": [
    "# Exercícios\n",
    "\n",
    "1. Crie uma variável chamada `nome` e atribua a ela seu nome completo. Em seguida, imprima uma mensagem de saudação utilizando essa variável.\n",
    "\n",
    "2. Declare duas variáveis do tipo `int`, some seus valores e exiba o resultado.\n",
    "\n",
    "3. Crie um programa que peça ao usuário dois números e exiba a média entre eles.\n",
    "\n",
    "4. Escreva um código que concatene duas strings representando nome e sobrenome, formando o nome completo.\n",
    "\n",
    "5. Faça um programa que verifique se um número fornecido pelo usuário é positivo, negativo ou zero.\n",
    "\n",
    "6. Escreva uma função chamada `eh_par` que receba um número inteiro como parâmetro e retorne `True` se o número for par e `False` caso contrário.\n",
    "\n",
    "7. Crie um programa que peça um número de 1 a 7 e imprima o dia da semana correspondente (1 para domingo, 2 para segunda, etc.).\n",
    "\n",
    "8. Escreva uma função que receba dois números como parâmetros e retorne o maior deles.\n",
    "\n",
    "9. Faça um programa que use um laço `for` para imprimir os números de 1 a 10.\n",
    "\n",
    "10. Crie um programa que leia 5 números do usuário usando um `while` e depois imprima a soma deles.\n",
    "\n",
    "11. Crie uma lista com 5 frutas e imprima cada uma delas usando um laço `for`.\n",
    "\n",
    "12. Dado o dicionário `aluno = {\"nome\": \"Ana\", \"idade\": 20, \"curso\": \"Python\"}`, imprima os valores de cada chave.\n",
    "\n",
    "13. Crie uma tupla com 3 cores e imprima a segunda cor.\n",
    "\n",
    "14. Crie uma função chamada `calculadora` que receba dois números e uma operação (`\"+\"`, `\"-\"`, `\"*\"`, `\"/\"`) e retorne o resultado da operação.\n",
    "\n",
    "15. Crie uma classe `Pessoa` com os atributos `nome` e `idade`, e um método que exiba essas informações.\n",
    "\n",
    "16. Crie uma classe `Funcionario` que herda da classe `Pessoa` e adiciona um atributo `salario`. Crie um método que calcule o bônus de 10% do salário.\n",
    "\n",
    "17. Utilize polimorfismo criando uma classe `Animal` com um método `falar()` e duas subclasses `Cachorro` e `Gato` que sobrescrevam o método com sons diferentes.\n",
    "\n",
    "18. Crie uma classe com um atributo privado e forneça um método `getter` e `setter` para acessá-lo.\n",
    "\n",
    "19. Crie um programa que importe o módulo `math` e utilize a função `sqrt()` para calcular a raiz quadrada de um número.\n",
    "\n",
    "20. Importe uma função que você mesmo criou em outro arquivo `.py` e utilize-a em um programa principal."
   ]
  }
 ],
 "metadata": {
  "language_info": {
   "name": "python"
  }
 },
 "nbformat": 4,
 "nbformat_minor": 5
}
