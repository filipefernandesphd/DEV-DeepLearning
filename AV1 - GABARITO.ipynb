{
 "cells": [
  {
   "cell_type": "markdown",
   "id": "4d60b8ca",
   "metadata": {},
   "source": [
    "# **AV1 (GABARITO)**\n",
    "\n",
    "\n",
    "## O Desafio\n",
    "\n",
    "O desafio é ensinar o computador a reconhecer números manuscritos a partir de imagens em tons de cinza.\n",
    "Para isso, usamos um conjunto de dados chamado `digits`, disponível no `scikit-learn`.\n",
    "\n",
    "A função `load_digits` carrega um conjunto de dados de imagens de dígitos (0 a 9) escritas à mão, já incluído no `scikit-learn`. Cada imagem representa um número e está associada ao rótulo correto. Ao chamar:\n",
    "\n",
    "```python\n",
    "from sklearn.datasets import load_digits\n",
    "digits = load_digits()\n",
    "```\n",
    "\n",
    "Você obtém:\n",
    "- `digits.images`: As imagens em formato matriz 8×8 (grayscale)\n",
    "- `digits.data`: As mesmas imagens, mas já achatadas em vetores de 64 posições\n",
    "- `digits.target`: Os rótulos reais (de 0 a 9) para cada imagem\n",
    "\n",
    "Cada imagem é uma matriz 8x8 com valores de pixels entre 0 e 16, representando o quão claro ou escuro é o pixel (0 = preto, 16 = branco).\n",
    "\n",
    "Exemplo:\n",
    "```python\n",
    "digits.images[0] = array([0.    , 0.    , 0.3125, 0.8125, 0.5625, 0.0625, 0.    , 0.    ,\n",
    "       0.    , 0.    , 0.8125, 0.9375, 0.625 , 0.9375, 0.3125, 0.    ,\n",
    "       0.    , 0.1875, 0.9375, 0.125 , 0.    , 0.6875, 0.5   , 0.    ,\n",
    "       0.    , 0.25  , 0.75  , 0.    , 0.    , 0.5   , 0.5   , 0.    ,\n",
    "       0.    , 0.3125, 0.5   , 0.    , 0.    , 0.5625, 0.5   , 0.    ,\n",
    "       0.    , 0.25  , 0.6875, 0.    , 0.0625, 0.75  , 0.4375, 0.    ,\n",
    "       0.    , 0.125 , 0.875 , 0.3125, 0.625 , 0.75  , 0.    , 0.    ,\n",
    "       0.    , 0.    , 0.375 , 0.8125, 0.625 , 0.    , 0.    , 0.    ])\n",
    "```\n",
    "\n",
    "Essa imagem representa o número 0, então digits.target[0] == 0.\n",
    "\n",
    "## Objetivo\n",
    "\n",
    "Seu objetivo é desenvolver um modelo de deep learning capaz de reconhecer números escritos à mão. Abaixo, o código deste modelo apresenta algumas lacunas que devem ser preenchidas. Analise cada linha de código a fim de que o objetivo seja alcançado. \n",
    "\n",
    "## Critério de Avaliação\n",
    "\n",
    "Se o modelo atingir acurácia final (*model.evaluate*) igual ou superior a 90%, o aluno recebe nota máxima (3,0 pontos). Se a acurácia for inferior a 90%, a nota será proporcional à acurácia: \n",
    "\n",
    "$$ Nota = \\frac{acuracia\\text{ }obtida}{90} \\times 3.0 $$\n",
    "\n",
    "\n",
    "## Instruções de Envio\n",
    "\n",
    "Após finalizar o modelo, chame o professor para correção. Em seguida, envie o mesmo arquivo no SIGAA.\n",
    "\n",
    "**ATENÇÃO**: o lançamento da nota está condicionada ao envio do referido arquivo dentro do prazo estabelecido. Caso isso não aconteça, a pontuação da avaliação será zerada. \n",
    "\n"
   ]
  },
  {
   "cell_type": "markdown",
   "id": "56648bfe",
   "metadata": {},
   "source": [
    "## Pré-processamento"
   ]
  },
  {
   "cell_type": "code",
   "execution_count": 1,
   "id": "86e51d9d",
   "metadata": {},
   "outputs": [],
   "source": [
    "from sklearn.datasets import load_digits\n",
    "import matplotlib.pyplot as plt\n",
    "\n",
    "# Carregar dados\n",
    "digits = load_digits()\n",
    "X, y = digits.images, digits.target\n",
    "\n",
    "# Normalizar os dados\n",
    "# Os valores dos pixels estão entre 0 e 16\n",
    "X = X / 16.0  \n",
    "\n",
    "# Achatar as imagens, ou seja, transformar cada imagem 2D em um vetor 1D\n",
    "X = X.reshape((X.shape[0], -1))"
   ]
  },
  {
   "cell_type": "markdown",
   "id": "f0365d20",
   "metadata": {},
   "source": [
    "## Criação do Modelo"
   ]
  },
  {
   "cell_type": "code",
   "execution_count": 2,
   "id": "859e6be5",
   "metadata": {},
   "outputs": [],
   "source": [
    "from sklearn.neural_network import MLPClassifier\n",
    "from sklearn.model_selection import train_test_split\n",
    "from sklearn.metrics import accuracy_score\n",
    "\n",
    "porcentagem_teste = 0.2\n",
    "reprodutibilidade = 42\n",
    "\n",
    "# Separar treino e teste\n",
    "X_train, X_test, y_train, y_test = train_test_split(X, y, test_size=porcentagem_teste, stratify=y, random_state=reprodutibilidade)"
   ]
  },
  {
   "cell_type": "code",
   "execution_count": null,
   "id": "8d3553c1",
   "metadata": {},
   "outputs": [],
   "source": [
    "from tensorflow import keras\n",
    "import tensorflow as tf\n",
    "\n",
    "neuronios_camada_oculta = 128\n",
    "ativacao_camada_oculta = 'relu'\n",
    "reprodutibilidade_camada_oculta = 142\n",
    "neuronios_camada_saida = 10\n",
    "ativacao_camada_saida = 'softmax'\n",
    "\n",
    "# Criar o modelo\n",
    "model = tf.keras.Sequential([\n",
    "    tf.keras.layers.InputLayer(shape=(64,) , name='camada_entrada'),\n",
    "    tf.keras.layers.Dense(neuronios_camada_oculta, activation=ativacao_camada_oculta, name='camada_oculta', kernel_initializer=keras.initializers.RandomNormal(seed=reprodutibilidade_camada_oculta)),\n",
    "    tf.keras.layers.Dense(neuronios_camada_saida, activation=ativacao_camada_saida , name='camada_saida')     \n",
    "])"
   ]
  },
  {
   "cell_type": "code",
   "execution_count": 4,
   "id": "ca9d492a",
   "metadata": {},
   "outputs": [],
   "source": [
    "# Compilar o modelo\n",
    "model.compile(\n",
    "    loss='sparse_categorical_crossentropy',  # função de perda usada quando os rótulos estão como inteiros (ex: 0 a 9)\n",
    "    optimizer='adam',                        # algoritmo de otimização eficiente e amplamente utilizado\n",
    "    metrics=['accuracy']                     # mede a proporção de acertos, adequada para rótulos inteiros\n",
    ")"
   ]
  },
  {
   "cell_type": "markdown",
   "id": "e630a8bf",
   "metadata": {},
   "source": [
    "## Teinamento do Modelo"
   ]
  },
  {
   "cell_type": "code",
   "execution_count": null,
   "id": "ac9ea762",
   "metadata": {},
   "outputs": [
    {
     "name": "stdout",
     "output_type": "stream",
     "text": [
      "Epoch 1/10\n",
      "\u001b[1m41/41\u001b[0m \u001b[32m━━━━━━━━━━━━━━━━━━━━\u001b[0m\u001b[37m\u001b[0m \u001b[1m0s\u001b[0m 2ms/step - accuracy: 0.3563 - loss: 2.1669 - val_accuracy: 0.8056 - val_loss: 1.6797\n",
      "Epoch 2/10\n",
      "\u001b[1m41/41\u001b[0m \u001b[32m━━━━━━━━━━━━━━━━━━━━\u001b[0m\u001b[37m\u001b[0m \u001b[1m0s\u001b[0m 1ms/step - accuracy: 0.8561 - loss: 1.5117 - val_accuracy: 0.8819 - val_loss: 1.0613\n",
      "Epoch 3/10\n",
      "\u001b[1m41/41\u001b[0m \u001b[32m━━━━━━━━━━━━━━━━━━━━\u001b[0m\u001b[37m\u001b[0m \u001b[1m0s\u001b[0m 1ms/step - accuracy: 0.8854 - loss: 0.9309 - val_accuracy: 0.8958 - val_loss: 0.6712\n",
      "Epoch 4/10\n",
      "\u001b[1m41/41\u001b[0m \u001b[32m━━━━━━━━━━━━━━━━━━━━\u001b[0m\u001b[37m\u001b[0m \u001b[1m0s\u001b[0m 944us/step - accuracy: 0.9042 - loss: 0.6001 - val_accuracy: 0.9236 - val_loss: 0.4781\n",
      "Epoch 5/10\n",
      "\u001b[1m41/41\u001b[0m \u001b[32m━━━━━━━━━━━━━━━━━━━━\u001b[0m\u001b[37m\u001b[0m \u001b[1m0s\u001b[0m 935us/step - accuracy: 0.9319 - loss: 0.4441 - val_accuracy: 0.9306 - val_loss: 0.3820\n",
      "Epoch 6/10\n",
      "\u001b[1m41/41\u001b[0m \u001b[32m━━━━━━━━━━━━━━━━━━━━\u001b[0m\u001b[37m\u001b[0m \u001b[1m0s\u001b[0m 1ms/step - accuracy: 0.9451 - loss: 0.3359 - val_accuracy: 0.9514 - val_loss: 0.3186\n",
      "Epoch 7/10\n",
      "\u001b[1m41/41\u001b[0m \u001b[32m━━━━━━━━━━━━━━━━━━━━\u001b[0m\u001b[37m\u001b[0m \u001b[1m0s\u001b[0m 1ms/step - accuracy: 0.9423 - loss: 0.2724 - val_accuracy: 0.9375 - val_loss: 0.2708\n",
      "Epoch 8/10\n",
      "\u001b[1m41/41\u001b[0m \u001b[32m━━━━━━━━━━━━━━━━━━━━\u001b[0m\u001b[37m\u001b[0m \u001b[1m0s\u001b[0m 1ms/step - accuracy: 0.9607 - loss: 0.2203 - val_accuracy: 0.9514 - val_loss: 0.2480\n",
      "Epoch 9/10\n",
      "\u001b[1m41/41\u001b[0m \u001b[32m━━━━━━━━━━━━━━━━━━━━\u001b[0m\u001b[37m\u001b[0m \u001b[1m0s\u001b[0m 1ms/step - accuracy: 0.9628 - loss: 0.1934 - val_accuracy: 0.9375 - val_loss: 0.2219\n",
      "Epoch 10/10\n",
      "\u001b[1m41/41\u001b[0m \u001b[32m━━━━━━━━━━━━━━━━━━━━\u001b[0m\u001b[37m\u001b[0m \u001b[1m0s\u001b[0m 988us/step - accuracy: 0.9747 - loss: 0.1708 - val_accuracy: 0.9514 - val_loss: 0.2016\n"
     ]
    }
   ],
   "source": [
    "# Treinar o modelo\n",
    "history = model.fit(\n",
    "    X_train, y_train,\n",
    "    epochs=10,                # número de vezes que o modelo verá todos os dados\n",
    "    validation_split=0.1      # separa % dos dados de treino para validação\n",
    ")"
   ]
  },
  {
   "cell_type": "markdown",
   "id": "1802cb86",
   "metadata": {},
   "source": [
    "## Avaliação do Modelo"
   ]
  },
  {
   "cell_type": "code",
   "execution_count": null,
   "id": "f54455dd",
   "metadata": {},
   "outputs": [],
   "source": [
    "# Gráfico de perda e acurácia durante o treinamento 1\n",
    "\n",
    "import pandas as pd\n",
    "\n",
    "pd.DataFrame(history.history).plot()\n",
    "plt.grid()\n",
    "plt.show()"
   ]
  },
  {
   "cell_type": "code",
   "execution_count": null,
   "id": "9ea2bdc2",
   "metadata": {},
   "outputs": [],
   "source": [
    "# Gráfico de perda e acurácia durante o treinamento 2\n",
    "\n",
    "fig, ax = plt.subplots(1,2, figsize=(14,5))\n",
    "ax[0].plot(history.history['loss'], color='#111487', linewidth=3, label=\"Perda de treinamento\")\n",
    "ax[0].plot(history.history['val_loss'], color='#EFA316', linewidth=3, label=\"Perda da validação\")\n",
    "legend = ax[0].legend(loc='best', shadow=True)\n",
    "\n",
    "ax[1].plot(history.history['accuracy'], color='#111487', linewidth=3, label=\"Acurácia de treinamento\")\n",
    "ax[1].plot(history.history['val_accuracy'], color='#EFA316', linewidth=3, label=\"Acurácia de validação\")\n",
    "legend = ax[1].legend(loc='best', shadow=True)\n",
    "\n",
    "plt.suptitle('Desempenho do treinamento', fontsize = 18)\n",
    "plt.show()"
   ]
  },
  {
   "cell_type": "markdown",
   "id": "5d55ed07",
   "metadata": {},
   "source": [
    "### Testando o Modelo"
   ]
  },
  {
   "cell_type": "code",
   "execution_count": null,
   "id": "f3fd0995",
   "metadata": {},
   "outputs": [
    {
     "name": "stdout",
     "output_type": "stream",
     "text": [
      "\u001b[1m12/12\u001b[0m \u001b[32m━━━━━━━━━━━━━━━━━━━━\u001b[0m\u001b[37m\u001b[0m \u001b[1m0s\u001b[0m 2ms/step - accuracy: 0.9463 - loss: 0.2030 \n"
     ]
    },
    {
     "data": {
      "text/plain": [
       "[0.18269962072372437, 0.9555555582046509]"
      ]
     },
     "execution_count": 9,
     "metadata": {},
     "output_type": "execute_result"
    }
   ],
   "source": [
    "dados_nao_treinados = X_test\n",
    "rotulos_nao_treinados = y_test\n",
    "\n",
    "model.evaluate(dados_nao_treinados, rotulos_nao_treinados)"
   ]
  },
  {
   "cell_type": "markdown",
   "id": "12d2ab5b",
   "metadata": {},
   "source": [
    "## Resultado"
   ]
  },
  {
   "cell_type": "code",
   "execution_count": 10,
   "id": "35bf58ad",
   "metadata": {},
   "outputs": [
    {
     "name": "stdout",
     "output_type": "stream",
     "text": [
      "\u001b[1m12/12\u001b[0m \u001b[32m━━━━━━━━━━━━━━━━━━━━\u001b[0m\u001b[37m\u001b[0m \u001b[1m0s\u001b[0m 1ms/step\n"
     ]
    }
   ],
   "source": [
    "# Fazer previsões com os dados de teste\n",
    "predicoes = model.predict(dados_nao_treinados)"
   ]
  },
  {
   "cell_type": "code",
   "execution_count": 11,
   "id": "25fbe259",
   "metadata": {},
   "outputs": [
    {
     "data": {
      "image/png": "[encoded data removed]",
      "text/plain": [
       "<Figure size 100x100 with 1 Axes>"
      ]
     },
     "metadata": {},
     "output_type": "display_data"
    },
    {
     "data": {
      "image/png": "[encoded data removed]",
      "text/plain": [
       "<Figure size 100x100 with 1 Axes>"
      ]
     },
     "metadata": {},
     "output_type": "display_data"
    },
    {
     "data": {
      "image/png": "[encoded data removed]",
      "text/plain": [
       "<Figure size 100x100 with 1 Axes>"
      ]
     },
     "metadata": {},
     "output_type": "display_data"
    },
    {
     "data": {
      "image/png": "[encoded data removed]",
      "text/plain": [
       "<Figure size 100x100 with 1 Axes>"
      ]
     },
     "metadata": {},
     "output_type": "display_data"
    },
    {
     "data": {
      "image/png": "[encoded data removed]",
      "text/plain": [
       "<Figure size 100x100 with 1 Axes>"
      ]
     },
     "metadata": {},
     "output_type": "display_data"
    }
   ],
   "source": [
    "# Mostrar 5 imagens aleatórias com seus rótulos reais e previstos\n",
    "import numpy as np\n",
    "import matplotlib.pyplot as plt\n",
    "\n",
    "# Selecionar 5 índices aleatórios do conjunto de teste\n",
    "indices = np.random.choice(len(X_test), size=5, replace=False)\n",
    "\n",
    "# Mostrar as 5 imagens com os rótulos reais e previstos\n",
    "for i in indices:\n",
    "    plt.figure(figsize=(1, 1))  # controla o tamanho da figura (largura x altura em polegadas)\n",
    "    plt.imshow(X_test[i].reshape(8, 8), cmap='gray')\n",
    "    plt.title(f\"Verdadeiro: {y_test[i]} | Previsto: {np.argmax(predicoes[i])}\")\n",
    "    plt.axis('off')\n",
    "    plt.show()"
   ]
  }
 ],
 "metadata": {
  "kernelspec": {
   "display_name": "Python 3",
   "language": "python",
   "name": "python3"
  },
  "language_info": {
   "codemirror_mode": {
    "name": "ipython",
    "version": 3
   },
   "file_extension": ".py",
   "mimetype": "text/x-python",
   "name": "python",
   "nbconvert_exporter": "python",
   "pygments_lexer": "ipython3",
   "version": "3.12.5"
  }
 },
 "nbformat": 4,
 "nbformat_minor": 5
}
